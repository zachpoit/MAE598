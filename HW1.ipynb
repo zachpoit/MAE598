{
 "cells": [
  {
   "cell_type": "markdown",
   "metadata": {},
   "source": [
    "# MAE598 HW 1\n",
    "\n",
    "Name: Zachary Poit\n",
    "\n",
    "### Question 1: \n",
    "\n",
    "Objective: Solve bounded optimization problem with linear constraints\n",
    "\n",
    "Python Version: 3.10.4\n",
    "\n",
    "Required Package: scipy 1.9.0 & numpy 1.23.2\n",
    "\n",
    "Import Packages: "
   ]
  },
  {
   "cell_type": "code",
   "execution_count": 14,
   "metadata": {},
   "outputs": [],
   "source": [
    "import numpy as np\n",
    "import scipy.optimize as opt"
   ]
  },
  {
   "cell_type": "markdown",
   "metadata": {},
   "source": [
    "Optimization Problem:\n",
    "\n",
    "Function: $ (x_1 - x_2)^2 + (x_2 + x_3 - 2)^2 + (x_4 - 1)^2 + (x_5 -1)^2$\n",
    "\n",
    "Linear Constraints: $ x_1 + 3 x_2 = 0, $ $ x_3 + x_4 - 2 x_5 = 0,$ $ x_2 - x_5 = 0 $\n",
    "\n",
    "Bounds Constraints: $ -10 \\leq x_i \\leq 10,$ $ i = 1,...,5 $"
   ]
  },
  {
   "cell_type": "code",
   "execution_count": 15,
   "metadata": {},
   "outputs": [],
   "source": [
    "# Define equation that will be optimized\n",
    "def equ(x):\n",
    "    return (x[0] - x[1]) ** 2 + (x[1] + x[2] - 2) ** 2 + (x[3] - 1) ** 2 + (x[4] - 1) ** 2 \n",
    "\n",
    "# Define linear contraint matrix and bounds\n",
    "linear_constraint_matrix = [[1, 3, 0, 0, 0],[0, 0, 1, 1, -2],[0, 1, 0, 0, -1]]\n",
    "linear_constraint_lb_and_ub = [0] * 3\n",
    "\n",
    "# Set linear Constraint\n",
    "linear_constraint = opt.LinearConstraint(linear_constraint_matrix,linear_constraint_lb_and_ub,linear_constraint_lb_and_ub)\n",
    "\n",
    "# Define bounds constraint\n",
    "bound_constraint_lb = [-10]\n",
    "bound_constraint_ub = [10]\n",
    "\n",
    "# Set Bounds Contstraint\n",
    "bounds_constraint = opt.Bounds(bound_constraint_lb*5, bound_constraint_ub*5)"
   ]
  },
  {
   "cell_type": "markdown",
   "metadata": {},
   "source": [
    "Gradient of Function with respect to $ x_i, $ $i = 1,...,5 $\n",
    "\n",
    "$ \\nabla f = \n",
    "\\begin{bmatrix}\n",
    "2 (x_1 - x_2) \\\\\n",
    "-2 (x_1 - x_2) + 2 ( x_2 + x_3 - 2) \\\\\n",
    "2 ( x_2 + x_3 - 2) \\\\\n",
    "2 (x_4 - 1) \\\\\n",
    "2(x_5 -1 ) \\\\\n",
    "\\end{bmatrix}$ "
   ]
  },
  {
   "cell_type": "code",
   "execution_count": 16,
   "metadata": {},
   "outputs": [],
   "source": [
    "# Define Gradient of Function\n",
    "def equ_grad(x):\n",
    "    grad = np.zeros_like(x)\n",
    "    grad[0] = 2 * (x[0] - x[1])\n",
    "    grad[1] = -2 * (x[0] - x[1]) + 2*(x[1] + x[2] - 2)\n",
    "    grad[2] = 2 * (x[1] + x[2] - 2)\n",
    "    grad[3] = 2 * (x[3] - 1)\n",
    "    grad[4] = 2 * (x[4] - 1)\n",
    "    return grad\n"
   ]
  },
  {
   "cell_type": "markdown",
   "metadata": {},
   "source": [
    "Hessian of Function with respect to $ x_i, $ $i = 1,...,5 $\n",
    "\n",
    "$ H_f = \n",
    "\\begin{bmatrix}\n",
    "2 & -2 & 0 & 0 & 0\\\\\n",
    "-2 & 4 & 2 & 0 & 0\\\\\n",
    "0 & 2 & 2 & 0 & 0\\\\\n",
    "0 & 0 & 0 & 2 & 0 \\\\\n",
    "0 & 0 & 0 & 0 & 2\n",
    "\\end{bmatrix}$"
   ]
  },
  {
   "cell_type": "code",
   "execution_count": 17,
   "metadata": {},
   "outputs": [],
   "source": [
    "# Define Hessian of Function\n",
    "def equ_hess(x):\n",
    "    return np.array([[2, -2, 0, 0, 0],[-2, 4, 2, 0, 0], [0, 2, 2, 0, 0], [0, 0, 0, 2, 0],[0, 0, 0, 0, 2]])"
   ]
  },
  {
   "cell_type": "code",
   "execution_count": 18,
   "metadata": {},
   "outputs": [
    {
     "name": "stdout",
     "output_type": "stream",
     "text": [
      "The initial conditions: \n",
      "x1 = 0.5\n",
      "x2 = 0.0\n",
      "x3 = 1.0\n",
      "x4 = 2.0\n",
      "x5 = 0.0\n",
      "`gtol` termination condition is satisfied.\n",
      "Number of iterations: 22, function evaluations: 13, CG iterations: 12, optimality: 4.27e-09, constraint violation: 1.11e-16, execution time: 0.05 s.\n",
      "The final result: \n",
      "x1 = -0.7674418615265843\n",
      "x2 = 0.2558139538421948\n",
      "x3 = 0.6279069751849273\n",
      "x4 = -0.11627906750053785\n",
      "x5 = 0.2558139538421948\n"
     ]
    }
   ],
   "source": [
    "# Define first set of intial conditions and solve optimization problem\n",
    "x0 = np.array([0.5, 0, 1, 2 , 0])\n",
    "\n",
    "print(\"The initial conditions: \")\n",
    "idx = 1\n",
    "for value in x0:\n",
    "    print(\"x\" + str(idx) + \" = \" + str(value))\n",
    "    idx += 1\n",
    "\n",
    "\n",
    "res = opt.minimize(equ, x0, method='trust-constr', jac=equ_grad, \\\n",
    "    hess=equ_hess, constraints= linear_constraint,options={'verbose': 1}, bounds=bounds_constraint)\n",
    "\n",
    "# Print result for first set\n",
    "print(\"The final result: \")\n",
    "idx = 1\n",
    "for value in res.x:\n",
    "    print(\"x\" + str(idx) + \" = \" + str(value))\n",
    "    idx += 1"
   ]
  },
  {
   "cell_type": "code",
   "execution_count": 19,
   "metadata": {},
   "outputs": [
    {
     "name": "stdout",
     "output_type": "stream",
     "text": [
      "The initial conditions: \n",
      "x1 = 3\n",
      "x2 = 8\n",
      "x3 = 5\n",
      "x4 = 6\n",
      "x5 = 7\n",
      "`gtol` termination condition is satisfied.\n",
      "Number of iterations: 19, function evaluations: 10, CG iterations: 10, optimality: 9.13e-09, constraint violation: 1.11e-16, execution time: 0.045 s.\n",
      "The final result: \n",
      "x1 = -0.7674418628000993\n",
      "x2 = 0.25581395426669973\n",
      "x3 = 0.6279069788680433\n",
      "x4 = -0.11627907033464381\n",
      "x5 = 0.25581395426669973\n"
     ]
    }
   ],
   "source": [
    "# Define first set of intial conditions and solve optimization problem\n",
    "x0 = np.array([3, 8, 5, 6 , 7])\n",
    "\n",
    "print(\"The initial conditions: \")\n",
    "idx = 1\n",
    "for value in x0:\n",
    "    print(\"x\" + str(idx) + \" = \" + str(value))\n",
    "    idx += 1\n",
    "\n",
    "\n",
    "res = opt.minimize(equ, x0, method='trust-constr', jac=equ_grad, \\\n",
    "    hess=equ_hess, constraints= linear_constraint,options={'verbose': 1}, bounds=bounds_constraint)\n",
    "\n",
    "# Print result for first set\n",
    "print(\"The final result: \")\n",
    "idx = 1\n",
    "for value in res.x:\n",
    "    print(\"x\" + str(idx) + \" = \" + str(value))\n",
    "    idx += 1"
   ]
  },
  {
   "cell_type": "code",
   "execution_count": 20,
   "metadata": {},
   "outputs": [
    {
     "name": "stdout",
     "output_type": "stream",
     "text": [
      "The initial conditions: \n",
      "x1 = -3\n",
      "x2 = -8\n",
      "x3 = -5\n",
      "x4 = -6\n",
      "x5 = -7\n",
      "`gtol` termination condition is satisfied.\n",
      "Number of iterations: 43, function evaluations: 51, CG iterations: 32, optimality: 9.85e-09, constraint violation: 1.11e-16, execution time: 0.069 s.\n",
      "The final result: \n",
      "x1 = -0.7674418594915894\n",
      "x2 = 0.25581395316386313\n",
      "x3 = 0.6279069724037911\n",
      "x4 = -0.11627906607606493\n",
      "x5 = 0.25581395316386313\n"
     ]
    }
   ],
   "source": [
    "# Define first set of intial conditions and solve optimization problem\n",
    "x0 = np.array([-3, -8, -5, -6 , -7])\n",
    "\n",
    "print(\"The initial conditions: \")\n",
    "idx = 1\n",
    "for value in x0:\n",
    "    print(\"x\" + str(idx) + \" = \" + str(value))\n",
    "    idx += 1\n",
    "\n",
    "\n",
    "res = opt.minimize(equ, x0, method='trust-constr', jac=equ_grad, \\\n",
    "    hess=equ_hess, constraints= linear_constraint,options={'verbose': 1}, bounds=bounds_constraint)\n",
    "\n",
    "# Print result for first set\n",
    "print(\"The final result: \")\n",
    "idx = 1\n",
    "for value in res.x:\n",
    "    print(\"x\" + str(idx) + \" = \" + str(value))\n",
    "    idx += 1"
   ]
  },
  {
   "cell_type": "markdown",
   "metadata": {},
   "source": [
    "It seems changing the initial conditions did not change the final result of the optimization solver. "
   ]
  },
  {
   "cell_type": "markdown",
   "metadata": {},
   "source": [
    "### Question 2: \n",
    "\n",
    "##### Part A)\n",
    "\n",
    "Solve gradient and hessian for the $n = 2$ case\n",
    "\n",
    "$f = b^T x + x^T A x = \n",
    "\\begin{bmatrix}\n",
    "b_1 & b_2\n",
    "\\end{bmatrix}\n",
    "\\begin{bmatrix}\n",
    "x_1 \\\\\n",
    "x_2\n",
    "\\end{bmatrix} + \n",
    "\\begin{bmatrix}\n",
    "x_1 & x_2\n",
    "\\end{bmatrix}\n",
    "\\begin{bmatrix}\n",
    "a_{11} & a_{12} \\\\\n",
    "a_{21} & a_{22}\n",
    "\\end{bmatrix}\n",
    "\\begin{bmatrix}\n",
    "x_1 \\\\\n",
    "x_2\n",
    "\\end{bmatrix} = b_1 x_1 + b_2 x_2 + a_{11}x_1^2 + \\left(a_{12} + a_{21}\\right)x_1 x_2 + a_{22}x_2^2$\n",
    "\n",
    "$ \\nabla f = \n",
    "\\begin{bmatrix}\n",
    "b_1 + 2 a_{11} x_1 + \\left(a_{12} + a_{21}\\right) x_2 \\\\\n",
    "b_2 + 2 a_{22} x_2 + \\left(a_{12} + a_{21}\\right) x_1\n",
    "\\end{bmatrix} = b + A^T x + A x$ \n",
    "\n",
    "$ H_f = \n",
    "\\begin{bmatrix}\n",
    "2 a_{11} & \\left(a_{12} + a_{21}\\right) \\\\\n",
    "\\left(a_{12} + a_{21}\\right) & 2 a_{22}\n",
    "\\end{bmatrix} = A^T + A$\n",
    "\n",
    "The gradient and hessian for any $n$ are:\n",
    "\n",
    "$ \\nabla f = b + A^T x + A x$ \n",
    "\n",
    "$ H_f = A^T + A$\n",
    "\n",
    "##### Part B)\n",
    "\n",
    "$ x_0 = \\vec{0} $\n",
    "\n",
    "$ f(x_0) = 0 $\n",
    "\n",
    "$ \\nabla f \\rvert_{x_0} = b $\n",
    "\n",
    "$ H_f \\rvert_{x_0} = A^T + A $\n",
    "\n",
    "first order: $ f(x) \\approx f(x_0) + \\nabla f \\rvert_{x_0} x = b^T x$\n",
    "\n",
    "second order: $ f(x) \\approx f(x_0) + \\nabla f \\rvert_{x_0} x + \\frac{1}{2} x^T H_f \\rvert_{x_0} x = b^T x + \\frac{1}{2} x^T \\left(A^T + A \\right) x$\n",
    "\n",
    "##### Part C)\n",
    "\n",
    "The $A$ matrix must be symmetric $ \\left(A = A^T \\right) $ and all eigenvalues need to be greater than zero \n",
    "\n",
    "##### Part D)\n",
    "\n",
    "Because $A$ is a square matrix, then all the columns of $A$ must be linearly independent for $A$ to have full rank. \n",
    "\n",
    "##### Part E) \n",
    "\n",
    "Givens: $A^T y = 0 $ for some $y \\neq  0 $\n",
    "\n",
    "1. $y$ belongs to the null space of $A^T$\n",
    "2. $y$ belongs to the left null space of $A$\n",
    "3. The left null space is orthogonal to the column space of $A$\n",
    "4. So, $y$ is orthogonal to the column space of $A$\n",
    "5. $b$ must be in the column space of $A$ for a solution to exist to $ Ax = b $\n",
    "6. Therefore, $b$ must be orthogonal to $y$\n",
    "\n"
   ]
  },
  {
   "cell_type": "markdown",
   "metadata": {},
   "source": [
    "### Question 3:\n",
    "\n",
    "##### Givens:\n",
    "\n",
    "$N$ is the number of all types of foods, $i$ will denote the the type of food\n",
    "\n",
    "$M$ is the number of all types of nutrition, $j$ will denote the type of nutrition\n",
    "\n",
    "$c_i$ is the cost of one unit of food $(N \\times 1)$\n",
    "\n",
    "$b_j$ is the minimum quanitity of each nutrition type that must be consumed $(M \\times 1)$\n",
    "\n",
    "$a_{ij}$ is a matrix that contains the quantity of each nutrition type for each food type $(M \\times N)$\n",
    "\n",
    "##### Solution: \n",
    "\n",
    "Define $x$ as the quantity of each food that will be purchased.\n",
    "\n",
    "Then $c^T x$ is the total bill of all the food. We want to minimize this. \n",
    "\n",
    "Multiplying $A x$ gives the total quanitity of nutrition type $j$ for the entire shopping list. We want this to be greater than $b_j$\n",
    "\n",
    "Also we don't want $x$ to be negative so it should be greater than or equal to zero, because we can't buy negative food. \n",
    "\n",
    "So here is the result: \n",
    "\n",
    "minimize: $c^T x$\n",
    "\n",
    "subject to: $Ax \\geq b$ and $ x \\geq 0 $\n",
    "\n"
   ]
  }
 ],
 "metadata": {
  "kernelspec": {
   "display_name": "Python 3.10.4 ('.MAE598_env': venv)",
   "language": "python",
   "name": "python3"
  },
  "language_info": {
   "codemirror_mode": {
    "name": "ipython",
    "version": 3
   },
   "file_extension": ".py",
   "mimetype": "text/x-python",
   "name": "python",
   "nbconvert_exporter": "python",
   "pygments_lexer": "ipython3",
   "version": "3.10.4"
  },
  "orig_nbformat": 4,
  "vscode": {
   "interpreter": {
    "hash": "62cacf7a938ba19e01fdfa2ab3b94b36ae0a642c472d49d6b134c6285fea7ac7"
   }
  }
 },
 "nbformat": 4,
 "nbformat_minor": 2
}
