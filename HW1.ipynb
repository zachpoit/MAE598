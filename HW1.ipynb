{
 "cells": [
  {
   "cell_type": "markdown",
   "metadata": {},
   "source": [
    "# MAE598 HW 1\n",
    "\n",
    "Name: Zachary Poit\n",
    "\n",
    "### Question 1: \n",
    "\n",
    "Objective: Solve bounded optimization problem with linear constraints\n",
    "\n",
    "Python Version: 3.10.4\n",
    "\n",
    "Required Package: scipy 1.9.0 & numpy 1.23.2\n",
    "\n",
    "Import Packages: "
   ]
  },
  {
   "cell_type": "code",
   "execution_count": 81,
   "metadata": {},
   "outputs": [],
   "source": [
    "import numpy as np\n",
    "import scipy.optimize as opt"
   ]
  },
  {
   "cell_type": "markdown",
   "metadata": {},
   "source": [
    "Optimization Problem:\n",
    "\n",
    "Function: $ (x_1 - x_2)^2 + (x_2 + x_3 - 2)^2 + (x_4 - 1)^2 + (x_5 -1)^2$\n",
    "\n",
    "Linear Constraints: $ x_1 + 3 x_2 = 0, $ $ x_3 + x_4 - 2 x_5 = 0,$ $ x_2 - x_5 = 0 $\n",
    "\n",
    "Bounds Constraints: $ -10 \\leq x_i \\leq 10,$ $ i = 1,...,5 $"
   ]
  },
  {
   "cell_type": "code",
   "execution_count": 82,
   "metadata": {},
   "outputs": [],
   "source": [
    "# Define equation that will be optimized\n",
    "def equ(x):\n",
    "    return (x[0] - x[1]) ** 2 + (x[1] + x[2] - 2) ** 2 + (x[3] - 1) ** 2 + (x[4] - 1) ** 2 \n",
    "\n",
    "# Define linear contraint matrix and bounds\n",
    "linear_constraint_matrix = [[1, 3, 0, 0, 0],[0, 0, 1, 1, -2],[0, 1, 0, 0, -1]]\n",
    "linear_constraint_lb_and_ub = [0] * 3\n",
    "\n",
    "# Set linear Constraint\n",
    "linear_constraint = opt.LinearConstraint(linear_constraint_matrix,linear_constraint_lb_and_ub,linear_constraint_lb_and_ub)\n",
    "\n",
    "# Define bounds constraint\n",
    "bound_constraint_lb = [-10]\n",
    "bound_constraint_ub = [10]\n",
    "\n",
    "# Set Bounds Contstraint\n",
    "bounds_constraint = opt.Bounds(bound_constraint_lb*5, bound_constraint_ub*5)"
   ]
  },
  {
   "cell_type": "markdown",
   "metadata": {},
   "source": [
    "Gradient of Function with respect to $ x_i, $ $i = 1,...,5 $\n",
    "\n",
    "$ \\nabla f = \n",
    "\\begin{bmatrix}\n",
    "2 (x_1 - x_2) \\\\\n",
    "-2 (x_1 - x_2) + 2 ( x_2 + x_3 - 2) \\\\\n",
    "2 ( x_2 + x_3 - 2) \\\\\n",
    "2 (x_4 - 1) \\\\\n",
    "2(x_5 -1 ) \\\\\n",
    "\\end{bmatrix}$ "
   ]
  },
  {
   "cell_type": "code",
   "execution_count": 83,
   "metadata": {},
   "outputs": [],
   "source": [
    "# Define Gradient of Function\n",
    "def equ_grad(x):\n",
    "    grad = np.zeros_like(x)\n",
    "    grad[0] = 2 * (x[0] - x[1])\n",
    "    grad[1] = -2 * (x[0] - x[1]) + 2*(x[1] + x[2] - 2)\n",
    "    grad[2] = 2 * (x[1] + x[2] - 2)\n",
    "    grad[3] = 2 * (x[3] - 1)\n",
    "    grad[4] = 2 * (x[4] - 1)\n",
    "    return grad\n"
   ]
  },
  {
   "cell_type": "markdown",
   "metadata": {},
   "source": [
    "Hessian of Function with respect to $ x_i, $ $i = 1,...,5 $\n",
    "\n",
    "$ H_f = \n",
    "\\begin{bmatrix}\n",
    "2 & -2 & 0 & 0 & 0\\\\\n",
    "-2 & 4 & 2 & 0 & 0\\\\\n",
    "0 & 2 & 2 & 0 & 0\\\\\n",
    "0 & 0 & 0 & 2 & 0 \\\\\n",
    "0 & 0 & 0 & 0 & 2\n",
    "\\end{bmatrix}$"
   ]
  },
  {
   "cell_type": "code",
   "execution_count": 84,
   "metadata": {},
   "outputs": [],
   "source": [
    "# Define Hessian of Function\n",
    "def equ_hess(x):\n",
    "    return np.array([[2, -2, 0, 0, 0],[-2, 4, 2, 0, 0], [0, 2, 2, 0, 0], [0, 0, 0, 2, 0],[0, 0, 0, 0, 2]])"
   ]
  },
  {
   "cell_type": "code",
   "execution_count": 85,
   "metadata": {},
   "outputs": [
    {
     "name": "stdout",
     "output_type": "stream",
     "text": [
      "The initial conditions: \n",
      "x1 = 0.5\n",
      "x2 = 0.0\n",
      "x3 = 1.0\n",
      "x4 = 2.0\n",
      "x5 = 0.0\n"
     ]
    }
   ],
   "source": [
    "# Define Initial conditions\n",
    "x0 = np.array([0.5, 0, 1, 2 , 0])\n",
    "\n",
    "print(\"The initial conditions: \")\n",
    "idx = 1\n",
    "for value in x0:\n",
    "    print(\"x\" + str(idx) + \" = \" + str(value))\n",
    "    idx += 1"
   ]
  },
  {
   "cell_type": "code",
   "execution_count": 86,
   "metadata": {},
   "outputs": [
    {
     "name": "stdout",
     "output_type": "stream",
     "text": [
      "`gtol` termination condition is satisfied.\n",
      "Number of iterations: 22, function evaluations: 13, CG iterations: 12, optimality: 4.27e-09, constraint violation: 1.11e-16, execution time: 0.051 s.\n"
     ]
    }
   ],
   "source": [
    "# Solve the optimization problem\n",
    "res = opt.minimize(equ, x0, method='trust-constr', jac=equ_grad, hess=equ_hess, constraints= linear_constraint,options={'verbose': 1}, bounds=bounds_constraint)"
   ]
  },
  {
   "cell_type": "code",
   "execution_count": 87,
   "metadata": {},
   "outputs": [
    {
     "name": "stdout",
     "output_type": "stream",
     "text": [
      "The final result: \n",
      "x1 = -0.7674418615265843\n",
      "x2 = 0.2558139538421948\n",
      "x3 = 0.6279069751849273\n",
      "x4 = -0.11627906750053785\n",
      "x5 = 0.2558139538421948\n"
     ]
    }
   ],
   "source": [
    "# Print result\n",
    "print(\"The final result: \")\n",
    "idx = 1\n",
    "for value in res.x:\n",
    "    print(\"x\" + str(idx) + \" = \" + str(value))\n",
    "    idx += 1"
   ]
  }
 ],
 "metadata": {
  "kernelspec": {
   "display_name": "Python 3.10.4 ('.MAE598_env': venv)",
   "language": "python",
   "name": "python3"
  },
  "language_info": {
   "codemirror_mode": {
    "name": "ipython",
    "version": 3
   },
   "file_extension": ".py",
   "mimetype": "text/x-python",
   "name": "python",
   "nbconvert_exporter": "python",
   "pygments_lexer": "ipython3",
   "version": "3.10.4"
  },
  "orig_nbformat": 4,
  "vscode": {
   "interpreter": {
    "hash": "62cacf7a938ba19e01fdfa2ab3b94b36ae0a642c472d49d6b134c6285fea7ac7"
   }
  }
 },
 "nbformat": 4,
 "nbformat_minor": 2
}
