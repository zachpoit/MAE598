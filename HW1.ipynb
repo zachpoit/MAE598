{
 "cells": [
  {
   "cell_type": "markdown",
   "metadata": {},
   "source": [
    "# MAE598 HW 1\n",
    "\n",
    "Name: Zachary Poit\n",
    "\n",
    "### Question 1: \n",
    "\n",
    "##### Objective: Solve bounded optimization problem with linear constraints\n",
    "\n",
    "Python Version: 3.10.4\n",
    "\n",
    "Required Package: scipy 1.9.0 & numpy 1.23.2\n",
    "\n",
    "Import Packages: "
   ]
  },
  {
   "cell_type": "code",
   "execution_count": 16,
   "metadata": {},
   "outputs": [],
   "source": [
    "import numpy as np\n",
    "import scipy.optimize as opt"
   ]
  },
  {
   "cell_type": "markdown",
   "metadata": {},
   "source": [
    "##### Optimization Problem:\n",
    "\n",
    "Function: $ (x_1 - x_2)^2 + (x_2 + x_3 - 2)^2 + (x_4 - 1)^2 + (x_5 -1)^2$\n",
    "\n",
    "Linear Constraints: $ x_1 + 3 x_2 = 0, $ $ x_3 + x_4 - 2 x_5 = 0,$ $ x_2 - x_5 = 0 $\n",
    "\n",
    "Bounds Constraints: $ -10 \\leq x_i \\leq 10,$ $ i = 1,...,5 $"
   ]
  },
  {
   "cell_type": "markdown",
   "metadata": {},
   "source": [
    "##### Gradiant of Function with respect to $ x_i, $ $i = 1,...,5 $\n",
    "\n",
    "$ 2 (x_1 - x_2) $\n",
    "\n",
    "$  - 2 (x_1 - x_2) + 2 ( x_2 + x_3 - 2) $ \n",
    "\n",
    "$ 2 ( x_2 + x_3 - 2) $\n",
    "\n",
    "$ 2 (x_4 - 1) $\n",
    "\n",
    "$ 2(x_5 -1 )$\n"
   ]
  },
  {
   "cell_type": "markdown",
   "metadata": {},
   "source": [
    "Hessian of Function with respect to $ x_i, $ $i = 1,...,5 $\n",
    "\n",
    "2 -2 0 0 0 \n",
    "-2 4 2 0 0\n",
    "0 2 2 0 0\n",
    "0 0 0 2 0\n",
    "0 0 0 0 2"
   ]
  },
  {
   "cell_type": "markdown",
   "metadata": {},
   "source": []
  }
 ],
 "metadata": {
  "kernelspec": {
   "display_name": "Python 3.10.4 ('.MAE598_env': venv)",
   "language": "python",
   "name": "python3"
  },
  "language_info": {
   "codemirror_mode": {
    "name": "ipython",
    "version": 3
   },
   "file_extension": ".py",
   "mimetype": "text/x-python",
   "name": "python",
   "nbconvert_exporter": "python",
   "pygments_lexer": "ipython3",
   "version": "3.10.4"
  },
  "orig_nbformat": 4,
  "vscode": {
   "interpreter": {
    "hash": "62cacf7a938ba19e01fdfa2ab3b94b36ae0a642c472d49d6b134c6285fea7ac7"
   }
  }
 },
 "nbformat": 4,
 "nbformat_minor": 2
}
