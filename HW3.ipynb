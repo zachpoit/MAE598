{
 "cells": [
  {
   "cell_type": "markdown",
   "metadata": {},
   "source": []
  },
  {
   "cell_type": "markdown",
   "metadata": {},
   "source": [
    "### Question 1\n",
    "\n",
    "#### Part 1: Formulate Optimization problem\n",
    "\n",
    "We have $ P = f(x_1,x_2,A_{12},A_{21}) $\n",
    "\n",
    "The error between the left and right side is $ \\epsilon = P - f(x_1,x_2,A_{12},A_{21}) $\n",
    "\n",
    "Because there is a constraint $x_1 + x_2 = 1$ then it can be reduced to $ \\epsilon = P - f(x_1,A_{12},A_{21}) $ from substitution.\n",
    "\n",
    "We can plug each data point into this equation to get 11 equations. One of them will look like $ \\epsilon_1 = p_1 - f(x_{1_1},A_{12},A_{21}) $\n",
    "\n",
    "They form a vector $\\mathbf{E} = f(P,X_1)$\n",
    "\n",
    "Now take the transpose and multiply by itself $\\mathbf{E}^T \\mathbf{E} = f(P,X_1)^T f(P,X_1) = \\sum_{i=1}^{n=11} (p_i - f(x_{1_i},A_{12},A_{21}))^2 $\n",
    "\n",
    "Optimization problem formulation:  $min \\sum_{i=1}^{n=11} (p_i - f(x_{1_i},A_{12},A_{21}))^2 $ w.r.t. $A_{12},A_{21}$"
   ]
  },
  {
   "cell_type": "markdown",
   "metadata": {},
   "source": [
    "#### Part 2: Solve using Gradient descent"
   ]
  },
  {
   "cell_type": "code",
   "execution_count": 129,
   "metadata": {},
   "outputs": [
    {
     "data": {
      "image/png": "[encoded data removed]",
      "text/plain": [
       "<Figure size 640x480 with 1 Axes>"
      ]
     },
     "metadata": {},
     "output_type": "display_data"
    },
    {
     "name": "stdout",
     "output_type": "stream",
     "text": [
      "Correlation coefficient: 0.9990897602351617\n"
     ]
    }
   ],
   "source": [
    "import warnings\n",
    "warnings.filterwarnings(\"ignore\")\n",
    "\n",
    "# Import packages\n",
    "import numpy as np\n",
    "import numdifftools as nd\n",
    "import matplotlib.pyplot as plt\n",
    "\n",
    "# DATA to fit\n",
    "x_1_values = np.arange(0,1.1,0.1)\n",
    "p_values = [28.1, 34.4, 36.7, 36.9, 36.8, 36.7, 36.5, 35.4, 32.9, 27.7, 17.5]\n",
    "\n",
    "# DATA for psat values\n",
    "a_1_w = 8.07131\n",
    "a_2_w = 1730.63\n",
    "a_3_w = 233.426\n",
    "\n",
    "a_1_d = 7.43155\n",
    "a_2_d = 1554.679\n",
    "a_3_d = 240.337\n",
    "\n",
    "T = 20\n",
    "\n",
    "# Precalculate psat values\n",
    "psat1 = 10 ** (a_1_w - (a_2_w/(T + a_3_w)))\n",
    "psat2 = 10 ** (a_1_d - (a_2_d/(T + a_3_d)))\n",
    "\n",
    "# Function at a given A set of two values\n",
    "def f1(A):\n",
    "    a_12 = A[0] \n",
    "    a_21 = A[1]\n",
    "    count = 0\n",
    "    sum = 0\n",
    "    for x_1 in x_1_values:\n",
    "        x_2 = 1 - x_1\n",
    "\n",
    "        inside_denom = a_12*x_1 + a_21*x_2\n",
    "        sum = sum + ((p_values[count] - (x_1 * psat1 * np.exp(a_12 * ((a_21*x_2/inside_denom) ** 2))) - (x_2 * psat2 * np.exp(a_21 * ((a_12*x_1/inside_denom) ** 2)))) ** 2)\n",
    "        count += 1\n",
    "    \n",
    "    return sum\n",
    "\n",
    "# Recursive function that does the line search reduction of alpha\n",
    "def reduce_alpha_grad(A,alpha):\n",
    "    phi = f1(A) - t*np.dot(nd.Gradient(f1)(A),nd.Gradient(f1)(A))*alpha         # Calculate Phi\n",
    "    if (f1(A - alpha*nd.Gradient(f1)(A)) > phi):                                # If alpha does not meet criteria, cut it in half\n",
    "        alpha = 0.5* alpha\n",
    "        return reduce_alpha_grad(A,alpha)                                       # Have the function call itself (recursion)\n",
    "    else:   \n",
    "        return alpha \n",
    "\n",
    "t = .5\n",
    "a0 = np.array([2,2]) \n",
    "A_list_grad = [a0]\n",
    "\n",
    "k = 0  \n",
    "\n",
    "while (np.linalg.norm(nd.Gradient(f1)(A_list_grad[k])) > 0.001):        # Run While norm of gradient is larger than tolerance. \n",
    "    old = A_list_grad[k]                                                # store last value in old \n",
    "    alpha = 1                                                           # Start alpha at 1 or reset it to 1\n",
    "    alpha = reduce_alpha_grad(old,alpha)                                # reduce alpha for line search\n",
    "    new = old - alpha*nd.Gradient(f1)(old)                              # get new based on gradient of old\n",
    "    A_list_grad.append(new)                                             # append new to list\n",
    "    k += 1\n",
    "\n",
    "# last values are the optimal A values\n",
    "last = A_list_grad[len(A_list_grad)-1]\n",
    "\n",
    "# Function for evalutating right side of equation based on an x_1 value\n",
    "def right_hand_side(x_1):\n",
    "    x_2 = 1 - x_1\n",
    "    inside_denom = last[0]*x_1 + last[1]*x_2\n",
    "    return (x_1 * psat1 * np.exp(last[0] * ((last[1]*x_2/inside_denom) ** 2))) + (x_2 * psat2 * np.exp(last[1] * ((last[0]*x_1/inside_denom) ** 2)))\n",
    "\n",
    "# Plot estimate vs data\n",
    "x_1 = np.linspace(0,1,100)\n",
    "\n",
    "curve = right_hand_side(x_1)\n",
    "\n",
    "plt.plot(x_1_values,p_values,'ro',label = 'Data')\n",
    "plt.plot(x_1,curve,label='estimate')\n",
    "plt.legend()\n",
    "\n",
    "plt.show()\n",
    "\n",
    "# Correlation Coefficient Calculations\n",
    "\n",
    "SSres = np.sum((p_values - right_hand_side(x_1_values)) ** 2)\n",
    "\n",
    "p_values_mean = np.sum(p_values) / len(p_values)\n",
    "\n",
    "SStot = np.sum((p_values - p_values_mean) ** 2)\n",
    "\n",
    "r = np.sqrt(1 - SSres/SStot)\n",
    "\n",
    "print(\"Correlation coefficient: \" + str(r))\n",
    "\n"
   ]
  },
  {
   "cell_type": "markdown",
   "metadata": {},
   "source": [
    "#### Part 3: How good is the fit?\n",
    "\n",
    "The model does fit well with the data. I computed the r^2 statistic and tool the square root to get the correlation coefficient to see how well it fits with the data. It is very close to the value of 1.0 so I would say the model fits the data very well."
   ]
  },
  {
   "cell_type": "markdown",
   "metadata": {},
   "source": [
    "### Question 2: \n",
    "\n",
    "I used the off the shelf Bayesian optimization tool that is apart of the scikit-optimize package. They have a Gausian Process minimization tool that allows you to set the acquistion function as expected improvement. Choosing to increase the n_random_starts variable to a large value seemed to increase accuracy. Keeping n_calls within 5 of the n_random_starts increased speed of the tool. \n",
    "\n",
    "The function has two global minimum points (found using wolfram alpha):\n",
    "$(0.089842,-0.712656)$ and $(-0.089842,0.712656)$\n",
    "\n",
    "The height of these two global minima are $-1.03163$\n",
    "\n",
    "The tool seems to get reasonably close. \n",
    "\n",
    "Off the shelf solver:\n",
    "https://scikit-optimize.github.io/stable/auto_examples/bayesian-optimization.html"
   ]
  },
  {
   "cell_type": "code",
   "execution_count": 130,
   "metadata": {},
   "outputs": [
    {
     "name": "stdout",
     "output_type": "stream",
     "text": [
      "[-0.010420685586576273, 0.6087237966392314]\n",
      "-1.000808155619577\n"
     ]
    }
   ],
   "source": [
    "import numpy as np\n",
    "from skopt import gp_minimize\n",
    "\n",
    "noise_amp = 0.1\n",
    "\n",
    "def obj_fun(x):\n",
    "    return (4 - 2.1*(x[0] ** 2) + (x[0] ** 4) / 3) * (x[0] ** 2) + x[0]*x[1] + (-4 + 4 * (x[1] ** 2)) * (x[1] ** 2)\n",
    "\n",
    "def noisy_obj_fun(x):\n",
    "    return obj_fun(x) + noise_amp * np.random.randn()\n",
    "\n",
    "from skopt import gp_minimize\n",
    "\n",
    "res = gp_minimize(noisy_obj_fun,                  # the function to minimize\n",
    "                  [(-2.0, 2.0),(-3.0, 3.0)],      # the bounds on each dimension of x\n",
    "                  acq_func=\"EI\",      # the acquisition function\n",
    "                  n_calls=205,         # the number of evaluations of f\n",
    "                  n_random_starts=200,  # the number of random initialization points\n",
    "                  noise=noise_amp**2)      # the noise level (optional))   # the random seed\n",
    "\n",
    "print(res.x)\n",
    "print(res.fun)\n"
   ]
  }
 ],
 "metadata": {
  "kernelspec": {
   "display_name": "Python 3.10.6 64-bit",
   "language": "python",
   "name": "python3"
  },
  "language_info": {
   "codemirror_mode": {
    "name": "ipython",
    "version": 3
   },
   "file_extension": ".py",
   "mimetype": "text/x-python",
   "name": "python",
   "nbconvert_exporter": "python",
   "pygments_lexer": "ipython3",
   "version": "3.10.6"
  },
  "orig_nbformat": 4,
  "vscode": {
   "interpreter": {
    "hash": "31f2aee4e71d21fbe5cf8b01ff0e069b9275f58929596ceb00d14d90e3e16cd6"
   }
  }
 },
 "nbformat": 4,
 "nbformat_minor": 2
}
